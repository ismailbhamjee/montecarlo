{
 "cells": [
  {
   "cell_type": "code",
   "execution_count": null,
   "id": "14438e3b",
   "metadata": {},
   "outputs": [],
   "source": [
    "#https://www.datacamp.com/tutorial/markov-chains-python-tutorial"
   ]
  },
  {
   "cell_type": "code",
   "execution_count": 1,
   "id": "26a42370",
   "metadata": {},
   "outputs": [],
   "source": [
    "import numpy as np\n",
    "import random as rnd"
   ]
  },
  {
   "cell_type": "code",
   "execution_count": 2,
   "id": "a26298cf",
   "metadata": {},
   "outputs": [],
   "source": [
    "#state space\n",
    "states = [\"eat\",\"rest\"]"
   ]
  },
  {
   "cell_type": "code",
   "execution_count": 8,
   "id": "8caa9a9e",
   "metadata": {},
   "outputs": [],
   "source": [
    "# all outcomes (truth table)\n",
    "\n",
    "'''\n",
    "       eat   rest\n",
    " eat   EE.6  ER.2\n",
    "rest   RE.4  RR.8\n",
    "\n",
    "'''\n",
    "\n",
    "\n",
    "transitionName =[['EE','ER'],['RE','RR']]\n",
    "transitionMatrix =[[0.6,0.4],[0.2,0.8]]\n",
    "#transitionMatrix = [[0.4,0.6],[0.1,0.9]]"
   ]
  },
  {
   "cell_type": "code",
   "execution_count": 9,
   "id": "df040804",
   "metadata": {},
   "outputs": [
    {
     "name": "stdout",
     "output_type": "stream",
     "text": [
      "All is gonna be okay, you should move on!! ;)\n"
     ]
    }
   ],
   "source": [
    "if sum(transitionMatrix[0])+sum(transitionMatrix[1])!= 2:\n",
    "    \n",
    "    print(\"Somewhere, something went wrong. Transition matrix, perhaps?\")\n",
    "    \n",
    "else: print(\"All is gonna be okay, you should move on!! ;)\")"
   ]
  },
  {
   "cell_type": "code",
   "execution_count": 10,
   "id": "3b2048fd",
   "metadata": {},
   "outputs": [],
   "source": [
    "start =\"eat\""
   ]
  },
  {
   "cell_type": "code",
   "execution_count": 11,
   "id": "aca17fe6",
   "metadata": {},
   "outputs": [],
   "source": [
    "def activity(days):\n",
    "    # Choose the starting state\n",
    "    activityToday = start\n",
    "    print(\"Start state: \" + activityToday)\n",
    "    activityList = [activityToday]\n",
    "    i = 0\n",
    "    # To calculate the probability \n",
    "    prob = 1\n",
    "    while i != days:\n",
    "        if activityToday =='eat':\n",
    "            \n",
    "            change  =np.random.choice(transitionName[0],replace = True, p = transitionMatrix[0])\n",
    "            print(change)\n",
    "            \n",
    "            \n",
    "            if change ==\"EE\":\n",
    "                prob = prob * 0.6\n",
    "                activityList.append('eat')\n",
    "                pass\n",
    "            \n",
    "            elif change == 'ER':\n",
    "                prob = prob*0.4\n",
    "                activityToday='rest'\n",
    "                activityList.append('rest')\n",
    "                \n",
    "        elif activityToday=='rest':\n",
    "            change=np.random.choice(transitionName[1],replace = True, p = transitionMatrix[1])\n",
    "            if change=='RR':\n",
    "                prob = prob*0.8\n",
    "                activityList.append('rest')\n",
    "                pass\n",
    "            \n",
    "            elif change =='RE':\n",
    "                prob=prob*0.2\n",
    "                activityToday=='eat'\n",
    "                activityList.append('eat')\n",
    "        i += 1   \n",
    "            \n",
    "    print(\"Possible states: \" + str(activityList))\n",
    "    print(\"End state after \"+ str(days) + \" days: \" + activityToday)\n",
    "    print(\"Probability of the possible sequence of states: \" + str(prob))   \n",
    "    \n",
    "        "
   ]
  },
  {
   "cell_type": "code",
   "execution_count": 14,
   "id": "d34f0a71",
   "metadata": {},
   "outputs": [
    {
     "name": "stdout",
     "output_type": "stream",
     "text": [
      "Start state: eat\n",
      "EE\n",
      "EE\n",
      "EE\n",
      "ER\n",
      "Possible states: ['eat', 'eat', 'eat', 'eat', 'rest']\n",
      "End state after 4 days: rest\n",
      "Probability of the possible sequence of states: 0.0864\n"
     ]
    }
   ],
   "source": [
    "activity(4)"
   ]
  },
  {
   "cell_type": "code",
   "execution_count": null,
   "id": "f8a7f747",
   "metadata": {},
   "outputs": [],
   "source": []
  }
 ],
 "metadata": {
  "kernelspec": {
   "display_name": "Python 3 (ipykernel)",
   "language": "python",
   "name": "python3"
  },
  "language_info": {
   "codemirror_mode": {
    "name": "ipython",
    "version": 3
   },
   "file_extension": ".py",
   "mimetype": "text/x-python",
   "name": "python",
   "nbconvert_exporter": "python",
   "pygments_lexer": "ipython3",
   "version": "3.8.13"
  }
 },
 "nbformat": 4,
 "nbformat_minor": 5
}
